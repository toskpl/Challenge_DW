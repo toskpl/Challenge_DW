{
 "cells": [
  {
   "cell_type": "markdown",
   "metadata": {},
   "source": [
    "# Przydatne linki\n",
    "### bit.ly/symulator-kod\n",
    "\n",
    "### bit.ly/symulator-model"
   ]
  },
  {
   "cell_type": "code",
   "execution_count": 1,
   "metadata": {},
   "outputs": [
    {
     "name": "stderr",
     "output_type": "stream",
     "text": [
      "Using TensorFlow backend.\n"
     ]
    }
   ],
   "source": [
    "from flask import Flask\n",
    "from io import BytesIO\n",
    "import eventlet.wsgi\n",
    "import eventlet\n",
    "import socketio\n",
    "import base64\n",
    "from PIL import Image\n",
    "import numpy as np\n",
    "\n",
    "import keras\n",
    "\n",
    "from keras.models import load_model\n",
    "\n",
    "import matplotlib.pyplot as plt"
   ]
  },
  {
   "cell_type": "code",
   "execution_count": 2,
   "metadata": {},
   "outputs": [
    {
     "name": "stdout",
     "output_type": "stream",
     "text": [
      "WARNING:tensorflow:From C:\\Users\\tskrzypczak\\AppData\\Local\\Continuum\\anaconda3\\lib\\site-packages\\tensorflow\\python\\framework\\op_def_library.py:263: colocate_with (from tensorflow.python.framework.ops) is deprecated and will be removed in a future version.\n",
      "Instructions for updating:\n",
      "Colocations handled automatically by placer.\n",
      "WARNING:tensorflow:From C:\\Users\\tskrzypczak\\AppData\\Local\\Continuum\\anaconda3\\lib\\site-packages\\keras\\backend\\tensorflow_backend.py:3445: calling dropout (from tensorflow.python.ops.nn_ops) with keep_prob is deprecated and will be removed in a future version.\n",
      "Instructions for updating:\n",
      "Please use `rate` instead of `keep_prob`. Rate should be set to `rate = 1 - keep_prob`.\n",
      "WARNING:tensorflow:From C:\\Users\\tskrzypczak\\AppData\\Local\\Continuum\\anaconda3\\lib\\site-packages\\tensorflow\\python\\ops\\math_ops.py:3066: to_int32 (from tensorflow.python.ops.math_ops) is deprecated and will be removed in a future version.\n",
      "Instructions for updating:\n",
      "Use tf.cast instead.\n",
      "_________________________________________________________________\n",
      "Layer (type)                 Output Shape              Param #   \n",
      "=================================================================\n",
      "normalize (Lambda)           (None, 60, 80, 3)         0         \n",
      "_________________________________________________________________\n",
      "conv2d_67 (Conv2D)           (None, 58, 78, 64)        1792      \n",
      "_________________________________________________________________\n",
      "conv2d_68 (Conv2D)           (None, 56, 76, 32)        18464     \n",
      "_________________________________________________________________\n",
      "max_pooling2d_42 (MaxPooling (None, 28, 38, 32)        0         \n",
      "_________________________________________________________________\n",
      "conv2d_69 (Conv2D)           (None, 26, 36, 16)        4624      \n",
      "_________________________________________________________________\n",
      "max_pooling2d_43 (MaxPooling (None, 13, 18, 16)        0         \n",
      "_________________________________________________________________\n",
      "conv2d_70 (Conv2D)           (None, 11, 16, 8)         1160      \n",
      "_________________________________________________________________\n",
      "max_pooling2d_44 (MaxPooling (None, 5, 8, 8)           0         \n",
      "_________________________________________________________________\n",
      "dropout_29 (Dropout)         (None, 5, 8, 8)           0         \n",
      "_________________________________________________________________\n",
      "flatten_15 (Flatten)         (None, 320)               0         \n",
      "_________________________________________________________________\n",
      "dropout_30 (Dropout)         (None, 320)               0         \n",
      "_________________________________________________________________\n",
      "dense_45 (Dense)             (None, 512)               164352    \n",
      "_________________________________________________________________\n",
      "dropout_31 (Dropout)         (None, 512)               0         \n",
      "_________________________________________________________________\n",
      "dense_46 (Dense)             (None, 512)               262656    \n",
      "_________________________________________________________________\n",
      "dropout_32 (Dropout)         (None, 512)               0         \n",
      "_________________________________________________________________\n",
      "dense_47 (Dense)             (None, 16)                8208      \n",
      "_________________________________________________________________\n",
      "dense_48 (Dense)             (None, 1)                 17        \n",
      "=================================================================\n",
      "Total params: 461,273\n",
      "Trainable params: 461,273\n",
      "Non-trainable params: 0\n",
      "_________________________________________________________________\n"
     ]
    }
   ],
   "source": [
    "\"\"\"korzystamy z wyuczonego modelu\"\"\"\n",
    "model = load_model('input/my_model_2.h5')\n",
    "model.summary()"
   ]
  },
  {
   "cell_type": "code",
   "execution_count": 3,
   "metadata": {},
   "outputs": [],
   "source": [
    "\"\"\"serwer web do odbierania zapytan z symulatora\"\"\"\n",
    "sio = socketio.Server()\n",
    "app = Flask(__name__)"
   ]
  },
  {
   "cell_type": "code",
   "execution_count": 4,
   "metadata": {},
   "outputs": [],
   "source": [
    "\"\"\"funkcja wysylajaca rozkazy do symulatora\"\"\"\n",
    "def send_control(steering_angle, throttle):\n",
    "    sio.emit(\"steer\", data={'steering_angle': str(steering_angle),\n",
    "                            'throttle': str(throttle) }, skip_sid=True)"
   ]
  },
  {
   "cell_type": "code",
   "execution_count": 5,
   "metadata": {},
   "outputs": [
    {
     "name": "stderr",
     "output_type": "stream",
     "text": [
      "(163656) wsgi starting up on http://0.0.0.0:4567\n",
      "(163656) accepted ('127.0.0.1', 59282)\n",
      "127.0.0.1 - - [17/May/2019 15:11:36] \"GET /socket.io/?EIO=4&transport=websocket HTTP/1.1\" 200 0 62.270511\n",
      "(163656) accepted ('127.0.0.1', 59303)\n",
      "127.0.0.1 - - [17/May/2019 15:13:41] \"GET /socket.io/?EIO=4&transport=websocket HTTP/1.1\" 200 0 91.124766\n",
      "(163656) accepted ('127.0.0.1', 59325)\n",
      "127.0.0.1 - - [17/May/2019 15:14:59] \"GET /socket.io/?EIO=4&transport=websocket HTTP/1.1\" 200 0 72.746071\n",
      "wsgi exiting\n",
      "(163656) wsgi exited, is_accepting=True\n"
     ]
    }
   ],
   "source": [
    "\"\"\" funkcja pomocnicza - zmienia rozmiar obrazu wejsciowiego na 60 x 80 x 3\"\"\"\n",
    "def process_image(img):\n",
    "    return img[10:130:2 , ::4, : ]\n",
    "\n",
    "@sio.on('telemetry')\n",
    "def telemetry(sid, data):\n",
    "    if data:\n",
    "        speed = float(data[\"speed\"])\n",
    "        image_str = data[\"image\"]#obraz jak string\n",
    "        \n",
    "        #print(data.keys())# 4 wymiary aktualny skręt, polozenie pedalu gazu, prędkosc, obraz - dane z symulatora\n",
    "        #print(type(image_str))#obraz jako string\n",
    "        \n",
    "        #decodowanie obrazu\n",
    "        decoded = base64.b64decode(image_str)\n",
    "        \n",
    "        #konwertujemy do obrazu\n",
    "        image = Image.open(BytesIO(decoded))\n",
    "        \n",
    "        #obraz konwertujemy do macierzy\n",
    "        imgae_array = np.asarray(image)\n",
    "        #print(imgae_array.shape)#obraz o wymiarach 160 wysokosc x 320 szerokosc x 3 kanały (RGB)\n",
    "        \n",
    "        #model input 60x80x3\n",
    "        #plt.imshow(imgae_array)\n",
    "        #plt.show()\n",
    "        \n",
    "        #zmniejszamy obraz \n",
    "        img = process_image(imgae_array)\n",
    "        img_batch = np.expand_dims(img,axis = 0)#dodanie 4 wymiaru , 1 zdjecie\n",
    "        \n",
    "        #predykcja modelu i zmiana na float - skret kierownicy\n",
    "        steering_angle = float(model.predict(img_batch))\n",
    "        \n",
    "        #print(steering_angle) \n",
    "        #steering_angle = 0.0 #kat skretu watosci -1..1 (-1 -lewo, 1 -prawo)\n",
    "        throttle = 0.1 #wcisniecie gazu wartosci 0..1 wartosci,  -1..0 oznacza hamowanie\n",
    "        \n",
    "        #print(throttle,steering_angle)\n",
    "        \n",
    "        if speed < 10:\n",
    "            throttle = 0.6\n",
    "        if speed > 17:\n",
    "            throttle = -0.1\n",
    "        send_control(steering_angle, throttle)\n",
    "    else:\n",
    "        sio.emit('manual', data={}, skip_sid=True)\n",
    "\n",
    "##uruchamia serwer i blokuje komórke\n",
    "app = socketio.Middleware(sio, app)\n",
    "eventlet.wsgi.server(eventlet.listen(('', 4567)), app)"
   ]
  },
  {
   "cell_type": "code",
   "execution_count": null,
   "metadata": {},
   "outputs": [],
   "source": []
  }
 ],
 "metadata": {
  "kernelspec": {
   "display_name": "Python 3",
   "language": "python",
   "name": "python3"
  },
  "language_info": {
   "codemirror_mode": {
    "name": "ipython",
    "version": 3
   },
   "file_extension": ".py",
   "mimetype": "text/x-python",
   "name": "python",
   "nbconvert_exporter": "python",
   "pygments_lexer": "ipython3",
   "version": "3.7.3"
  }
 },
 "nbformat": 4,
 "nbformat_minor": 2
}
